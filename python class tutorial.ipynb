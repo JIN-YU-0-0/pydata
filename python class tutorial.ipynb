{
 "cells": [
  {
   "cell_type": "markdown",
   "metadata": {},
   "source": [
    "## Object oriented programming (OOP)\n",
    "- class: template; \n",
    "- objects: instance (or variable) of the class; \n",
    "- using the keyword \"class\" to create Class;\n",
    "- As a rule, class name is started with uppercase letter, whereas function name is started with lowercase letter;"
   ]
  },
  {
   "cell_type": "code",
   "execution_count": 24,
   "metadata": {},
   "outputs": [],
   "source": [
    "class Employee:\n",
    "    '''\n",
    "    This is my first class example\n",
    "    '''\n",
    "    def __init__(self,first,last,pay):\n",
    "        self.first = first\n",
    "        self.last = last\n",
    "        self.pay = pay\n",
    "        self.email = first +'.'+last +'@qq.com'\n",
    "    def fullname(self):\n",
    "        return '{} {}'.format(self.first,self.last)"
   ]
  },
  {
   "cell_type": "markdown",
   "metadata": {},
   "source": [
    "#### Constructor\n",
    "- __init__ method (Constructor) is need to define and initialize the class variables (attributes); \n",
    "- the self key word is used in the 'init function' along with the name of variables;\n",
    "- All the function, should have first parameters as 'self' inside the class;\n",
    "- When object of class created, the constructor(__init__) method is executed automatically;"
   ]
  },
  {
   "cell_type": "markdown",
   "metadata": {},
   "source": [
    "#### Example of class\n",
    "- build a student class;\n",
    "- attribute: name, sex, age;\n",
    "- method: get the name"
   ]
  },
  {
   "cell_type": "code",
   "execution_count": 21,
   "metadata": {},
   "outputs": [],
   "source": [
    "class Student():\n",
    "    def __init__(self, name, age,sex):\n",
    "        self.name = name\n",
    "        self.age = age\n",
    "        self.sex = sex\n",
    "    def name_get(self):\n",
    "        print(self.name)\n",
    "    def set_age(self,num):\n",
    "        self.age = num"
   ]
  },
  {
   "cell_type": "code",
   "execution_count": 22,
   "metadata": {},
   "outputs": [],
   "source": [
    "stu_1 = Student('tom',24,'male')\n",
    "stu_1.set_age(26)"
   ]
  },
  {
   "cell_type": "code",
   "execution_count": 23,
   "metadata": {},
   "outputs": [
    {
     "data": {
      "text/plain": [
       "26"
      ]
     },
     "execution_count": 23,
     "metadata": {},
     "output_type": "execute_result"
    }
   ],
   "source": [
    "stu_1.age"
   ]
  },
  {
   "cell_type": "markdown",
   "metadata": {},
   "source": [
    "#### Exercise\n",
    "- build a book class(author name, place, publisher,year)\n",
    "- output the book information;"
   ]
  },
  {
   "cell_type": "code",
   "execution_count": 25,
   "metadata": {},
   "outputs": [
    {
     "name": "stdout",
     "output_type": "stream",
     "text": [
      " 驱动器 D 中的卷是 新加卷\n",
      " 卷的序列号是 4867-8561\n",
      "\n",
      " D:\\trainingMe\\youtube_tutorials 的目录\n",
      "\n",
      "2020/12/01  21:17    <DIR>          .\n",
      "2020/12/01  21:17    <DIR>          ..\n",
      "2020/12/01  20:28    <DIR>          .ipynb_checkpoints\n",
      "2020/11/20  18:17             5,614 build machine learnig web app.ipynb\n",
      "2020/11/20  17:33             7,587 convert pdf into audio.ipynb\n",
      "2020/10/16  15:15           357,348 macd sell stock.ipynb\n",
      "2020/11/24  23:07           358,883 Money flow index.ipynb\n",
      "2020/10/14  23:36            70,010 Predict the price of stock.ipynb\n",
      "2020/12/01  21:17             3,257 python class tutorial.ipynb\n",
      "2020/10/23  10:22            41,207 qsar-chembl.ipynb\n",
      "2020/10/23  19:33           180,337 qsar-eda.ipynb\n",
      "2020/10/16  12:33           210,048 stock predict using machine learning.ipynb\n",
      "2020/11/24  23:27           224,375 StockTradingStrategyDEMA.ipynb\n",
      "2020/11/10  11:07           232,243 ThreeMovingAverage.ipynb\n",
      "2020/11/24  23:08           227,923 Trading strategy rsi.ipynb\n",
      "              12 个文件      1,918,832 字节\n",
      "               3 个目录 821,512,757,248 可用字节\n"
     ]
    }
   ],
   "source": [
    "!dir"
   ]
  },
  {
   "cell_type": "code",
   "execution_count": null,
   "metadata": {},
   "outputs": [],
   "source": []
  }
 ],
 "metadata": {
  "kernelspec": {
   "display_name": "Python 3",
   "language": "python",
   "name": "python3"
  },
  "language_info": {
   "codemirror_mode": {
    "name": "ipython",
    "version": 3
   },
   "file_extension": ".py",
   "mimetype": "text/x-python",
   "name": "python",
   "nbconvert_exporter": "python",
   "pygments_lexer": "ipython3",
   "version": "3.7.6"
  }
 },
 "nbformat": 4,
 "nbformat_minor": 4
}
